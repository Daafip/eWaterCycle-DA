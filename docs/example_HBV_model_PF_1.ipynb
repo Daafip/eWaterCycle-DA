{
 "cells": [
  {
   "cell_type": "markdown",
   "id": "e9cd8d85-eb4a-45d6-925a-e3e770592043",
   "metadata": {},
   "source": [
    "# 1. Example running HBV for particle filter pre defining DA parameters (WIP)"
   ]
  },
  {
   "cell_type": "markdown",
   "id": "b0c00b09",
   "metadata": {},
   "source": [
    "## setup packages"
   ]
  },
  {
   "cell_type": "code",
   "execution_count": 1,
   "id": "ec7e710a-5aa4-40f9-a1cb-151e3cddbe04",
   "metadata": {},
   "outputs": [],
   "source": [
    "# general python\n",
    "import warnings\n",
    "warnings.filterwarnings(\"ignore\", category=UserWarning)\n",
    "import numpy as np\n",
    "import os\n",
    "from pathlib import Path\n",
    "import yaml\n",
    "import pandas as pd\n",
    "import matplotlib.pyplot as plt\n",
    "from datetime import datetime\n",
    "import scipy\n",
    "import xarray as xr\n",
    "from tqdm import tqdm\n",
    "import glob\n",
    "from devtools import pprint"
   ]
  },
  {
   "cell_type": "code",
   "execution_count": 2,
   "id": "4569a0f2-4bea-48cc-b5a4-ca5384e368c6",
   "metadata": {},
   "outputs": [],
   "source": [
    "# general eWC\n",
    "import ewatercycle\n",
    "import ewatercycle.forcing\n",
    "import ewatercycle.models"
   ]
  },
  {
   "cell_type": "code",
   "execution_count": 3,
   "id": "98a3463b-eedd-4f59-a542-6afd58cf6eb4",
   "metadata": {
    "scrolled": true
   },
   "outputs": [],
   "source": [
    "# pip install ewatercycle-HBV"
   ]
  },
  {
   "cell_type": "markdown",
   "id": "111bc65b-8299-43ba-95fd-e92df6b92707",
   "metadata": {},
   "source": [
    "## set up paths"
   ]
  },
  {
   "cell_type": "code",
   "execution_count": 4,
   "id": "df66893d-b667-4fcc-a841-683f32ed2cc7",
   "metadata": {},
   "outputs": [
    {
     "data": {
      "text/plain": [
       "PosixPath('/home/davidhaasnoot/eWaterCycle-DA/docs/Forcing')"
      ]
     },
     "execution_count": 4,
     "metadata": {},
     "output_type": "execute_result"
    }
   ],
   "source": [
    "path = Path.cwd()\n",
    "forcing_path = path / \"Forcing\"\n",
    "observations_path = path / \"Observations\"\n",
    "figure_path = path / \"Figures\"\n",
    "output_path = path / \"Output\"\n",
    "forcing_path"
   ]
  },
  {
   "cell_type": "markdown",
   "id": "4787c692-3f9c-402b-9b48-93daeeb47926",
   "metadata": {},
   "source": [
    "## Add parameter info"
   ]
  },
  {
   "cell_type": "code",
   "execution_count": 5,
   "id": "33fbba0f-dbc0-4812-9125-79e0df831e7b",
   "metadata": {},
   "outputs": [],
   "source": [
    "## Array of initial storage terms - we keep these constant for now \n",
    "##              Si,  Su, Sf, Ss\n",
    "s_0 = np.array([0,  100,  0,  5])\n",
    "\n",
    "## Array of parameters min/max bounds as a reference\n",
    "##                      Imax,  Ce,  Sumax, beta,  Pmax,  T_lag,   Kf,   Ks\n",
    "p_min_initial= np.array([0,   0.2,  40,    .5,   .001,   1,     .01,  .0001])\n",
    "p_max_initial = np.array([8,    1,  800,   4,    .3,     10,    .1,   .01])\n",
    "p_names = [\"$I_{max}$\",  \"$C_e$\",  \"$Su_{max}$\", \"β\",  \"$P_{max}$\",  \"$T_{lag}$\",   \"$K_f$\",   \"$K_s$\"]\n",
    "S_names = [\"Interception storage\", \"Unsaturated Rootzone Storage\", \"Fastflow storage\", \"Groundwater storage\"]\n",
    "param_names = [\"Imax\",\"Ce\",  \"Sumax\", \"Beta\",  \"Pmax\",  \"Tlag\",   \"Kf\",   \"Ks\"]\n",
    "stor_names = [\"Si\", \"Su\", \"Sf\", \"Ss\"]\n",
    "\n",
    "# set initial as mean of max,min\n",
    "par_0 = (p_min_initial + p_max_initial)/2"
   ]
  },
  {
   "cell_type": "code",
   "execution_count": 6,
   "id": "03aea008-87ce-4d09-8d01-f12dfe6bb116",
   "metadata": {},
   "outputs": [],
   "source": [
    "experiment_start_date = \"1997-10-01T00:00:00Z\"\n",
    "experiment_end_date = \"1998-11-01T00:00:00Z\"\n",
    "HRU_id = 1620500\n",
    "alpha = 1.26"
   ]
  },
  {
   "cell_type": "markdown",
   "id": "47705157",
   "metadata": {},
   "source": [
    "## Forcing"
   ]
  },
  {
   "cell_type": "code",
   "execution_count": 7,
   "id": "41855c32-2650-403e-bcad-332eab6c1ec4",
   "metadata": {},
   "outputs": [],
   "source": [
    "from ewatercycle.forcing import sources"
   ]
  },
  {
   "cell_type": "code",
   "execution_count": 8,
   "id": "6249ec9f-8ff2-4181-ac6f-cac309d8cf72",
   "metadata": {},
   "outputs": [],
   "source": [
    "camels_forcing = sources.HBVForcing(start_time = experiment_start_date,\n",
    "                          end_time = experiment_end_date,\n",
    "                          directory = forcing_path,\n",
    "                          camels_file = f'0{HRU_id}_lump_cida_forcing_leap.txt',\n",
    "                          alpha = alpha\n",
    "                          )"
   ]
  },
  {
   "cell_type": "markdown",
   "id": "b944e1b8-e225-483d-b39e-74ed4dea37cf",
   "metadata": {},
   "source": [
    "### import model"
   ]
  },
  {
   "cell_type": "code",
   "execution_count": 9,
   "id": "555a3c69-953c-403b-a259-125aa8370dd8",
   "metadata": {},
   "outputs": [],
   "source": [
    "from ewatercycle.models import HBV"
   ]
  },
  {
   "cell_type": "markdown",
   "id": "6dce1e11-7b68-4b30-a949-f0d8b5e3719c",
   "metadata": {},
   "source": [
    "### import DA function (locally for now)"
   ]
  },
  {
   "cell_type": "code",
   "execution_count": 10,
   "id": "f4d26ea7-f699-427b-b3a4-9d78d566e711",
   "metadata": {},
   "outputs": [],
   "source": [
    "import importlib.util\n",
    "\n",
    "def module_from_file(module_name, file_path):\n",
    "    spec = importlib.util.spec_from_file_location(module_name, file_path)\n",
    "    module = importlib.util.module_from_spec(spec)\n",
    "    spec.loader.exec_module(module)\n",
    "    return module"
   ]
  },
  {
   "cell_type": "code",
   "execution_count": 11,
   "id": "a3224ab2-e29f-422d-b4ed-3368d95e364a",
   "metadata": {},
   "outputs": [],
   "source": [
    "DA = module_from_file(\"DA\",r'../src/eWaterCycle_DA/DA.py')"
   ]
  },
  {
   "cell_type": "code",
   "execution_count": 12,
   "id": "107e551f-371f-4938-959a-a697e54b11f8",
   "metadata": {},
   "outputs": [],
   "source": [
    "n_particles = 100"
   ]
  },
  {
   "cell_type": "markdown",
   "id": "27a0c40f",
   "metadata": {},
   "source": [
    "setup model"
   ]
  },
  {
   "cell_type": "code",
   "execution_count": 13,
   "id": "507275ac-4746-419f-b796-a110bc06de62",
   "metadata": {},
   "outputs": [],
   "source": [
    "ensemble = DA.Ensemble(N=n_particles)\n",
    "ensemble.setup()"
   ]
  },
  {
   "cell_type": "code",
   "execution_count": 14,
   "id": "da1ea51c-84c3-431d-aa1c-41b7a994718d",
   "metadata": {},
   "outputs": [],
   "source": [
    "array_random_num = np.array([[np.random.random() for i in range(len(p_max_initial))] for i in range(n_particles)])\n",
    "p_intial = p_min_initial + array_random_num * (p_max_initial-p_min_initial)"
   ]
  },
  {
   "cell_type": "code",
   "execution_count": 15,
   "id": "af32a60e-4c0d-4c86-a473-76a3358bc374",
   "metadata": {},
   "outputs": [],
   "source": [
    "# values wihch you \n",
    "setup_kwargs_lst = []\n",
    "for index in range(n_particles):\n",
    "    setup_kwargs_lst.append({'parameters':','.join([str(p) for p in p_intial[index]]), \n",
    "                            'initial_storage':','.join([str(s) for s in s_0]),\n",
    "                             })"
   ]
  },
  {
   "cell_type": "code",
   "execution_count": 17,
   "id": "ca0b485b-43fa-4645-b7d4-34031404a39d",
   "metadata": {},
   "outputs": [],
   "source": [
    "ensemble.initialize(model_name=[\"HBV\"]*n_particles,\n",
    "                    forcing=[camels_forcing]*n_particles,\n",
    "                    setup_kwargs=setup_kwargs_lst) "
   ]
  },
  {
   "cell_type": "code",
   "execution_count": 18,
   "id": "14b2507f-d55a-4828-9aa6-a3da9d7ac4af",
   "metadata": {},
   "outputs": [],
   "source": [
    "# create a reference model for easy access\n",
    "ref_model = ensemble.ensemble_list[0].model"
   ]
  },
  {
   "cell_type": "code",
   "execution_count": 19,
   "id": "5cba2cc4-fbf3-45cf-bee3-95716f689f95",
   "metadata": {},
   "outputs": [],
   "source": [
    "ds = xr.open_dataset(forcing_path / ref_model.forcing.pr)"
   ]
  },
  {
   "cell_type": "markdown",
   "id": "d252ff01-2475-44d2-adad-345297a81b11",
   "metadata": {},
   "source": [
    "## Import observations"
   ]
  },
  {
   "cell_type": "code",
   "execution_count": 20,
   "id": "2788bf40-4cc4-45b4-b999-ffbe4f25cbeb",
   "metadata": {},
   "outputs": [],
   "source": [
    "observations = observations_path / f'0{HRU_id}_streamflow_qc.txt'"
   ]
  },
  {
   "cell_type": "code",
   "execution_count": 21,
   "id": "2f884c9d-a19b-4d21-8686-1abb1017fa13",
   "metadata": {},
   "outputs": [],
   "source": [
    "cubic_ft_to_cubic_m = 0.0283168466 "
   ]
  },
  {
   "cell_type": "code",
   "execution_count": 22,
   "id": "3acb63f5-c1a9-4485-b96a-aa3762f1bddd",
   "metadata": {},
   "outputs": [],
   "source": [
    "new_header = ['GAGEID','Year','Month', 'Day', 'Streamflow(cubic feet per second)','QC_flag']\n",
    "new_header_dict = dict(list(zip(range(len(new_header)),new_header)))\n",
    "\n",
    "df_Q = pd.read_fwf(observations,delimiter=' ',encoding='utf-8',header=None)\n",
    "df_Q = df_Q.rename(columns=new_header_dict)\n",
    "df_Q['Streamflow(cubic feet per second)'] = df_Q['Streamflow(cubic feet per second)'].apply(lambda x: np.nan if x==-999.00 else x)\n",
    "df_Q['Q (m3/s)'] = df_Q['Streamflow(cubic feet per second)'] * cubic_ft_to_cubic_m\n",
    "df_Q['Q'] = df_Q['Q (m3/s)'] / ds.attrs['area basin(m^2)'] * 3600 * 24 * 1000 # m3/s -> m/s ->m/d -> mm/d\n",
    "df_Q.index = df_Q.apply(lambda x: pd.Timestamp(f'{int(x.Year)}-{int(x.Month)}-{int(x.Day)}'),axis=1)\n",
    "df_Q.index.name = \"time\"\n",
    "df_Q.drop(columns=['Year','Month', 'Day','Streamflow(cubic feet per second)'],inplace=True)\n",
    "df_Q = df_Q.dropna(axis=0)\n",
    "\n",
    "ds_obs_dir = observations_path / f'0{HRU_id}_streamflow_qc.nc'\n",
    "ds_obs = xr.Dataset(data_vars=df_Q[['Q']])\n",
    "if not ds_obs_dir.exists():\n",
    "    ds_obs.to_netcdf(ds_obs_dir)"
   ]
  },
  {
   "cell_type": "code",
   "execution_count": 23,
   "id": "470add53-a8b1-45f2-a84f-2b06b6ea37db",
   "metadata": {},
   "outputs": [
    {
     "data": {
      "image/png": "[encoded data removed]",
      "text/plain": [
       "<Figure size 640x480 with 1 Axes>"
      ]
     },
     "metadata": {},
     "output_type": "display_data"
    }
   ],
   "source": [
    "ax = df_Q['Q'].plot()\n",
    "ax.set_xlim((pd.Timestamp(experiment_start_date),pd.Timestamp(experiment_end_date)))\n",
    "ax.set_ylabel(\"Q (mm/d)\")\n",
    "ax.set_title(\"observations\");"
   ]
  },
  {
   "cell_type": "markdown",
   "id": "42c9d017",
   "metadata": {},
   "source": [
    "## setup DA"
   ]
  },
  {
   "cell_type": "markdown",
   "id": "ff64b04a-31b8-4c1c-adf8-116e5f8ed802",
   "metadata": {},
   "source": [
    "This sets up all the require data assimilation information"
   ]
  },
  {
   "cell_type": "code",
   "execution_count": 24,
   "id": "e6716d36-8b42-4a4d-afec-f8aef13afc92",
   "metadata": {},
   "outputs": [],
   "source": [
    "def H(Z):\n",
    "    if len(Z) == 13:\n",
    "        return Z[-1] \n",
    "    else: \n",
    "        raise SyntaxWarning(f\"Length of statevector should be 9 but is {len(Z)}\")"
   ]
  },
  {
   "cell_type": "code",
   "execution_count": 25,
   "id": "f313b1f6-b54d-4d58-93fc-dec65520bfae",
   "metadata": {},
   "outputs": [],
   "source": [
    "ensemble.initialize_da_method(ensemble_method_name = \"PF\", \n",
    "                              hyper_parameters = {\n",
    "                                               'like_sigma_weights' : 0.05,\n",
    "                                               'like_sigma_state_vector' : 0.005,\n",
    "                                                 },\n",
    "                              \n",
    "                              state_vector_variables = \"all\", # the next three are keyword arguments but are needed. \n",
    "                              observation_path = ds_obs_dir,\n",
    "                              observed_variable_name = \"Q\",\n",
    "                              measurement_operator = H, \n",
    "                           \n",
    "                            )"
   ]
  },
  {
   "cell_type": "markdown",
   "id": "4ac43064",
   "metadata": {},
   "source": [
    "## Run algorithm"
   ]
  },
  {
   "cell_type": "code",
   "execution_count": null,
   "id": "443f7de0-31ae-470e-a6df-03ebb2e71dc4",
   "metadata": {
    "scrolled": true
   },
   "outputs": [
    {
     "name": "stderr",
     "output_type": "stream",
     "text": [
      "  0%|                                                                                           | 0/396 [00:00<?, ?it/s]\n",
      "  0%|                                                                                           | 0/396 [00:00<?, ?it/s]\u001b[A\n",
      "  0%|▏                                                                                | 1/396 [00:11<1:13:20, 11.14s/it]\u001b[A\n",
      "  1%|▍                                                                                  | 2/396 [00:17<54:08,  8.25s/it]\u001b[A\n",
      "  1%|▋                                                                                  | 3/396 [00:23<47:35,  7.27s/it]\u001b[A\n",
      "  1%|▊                                                                                  | 4/396 [00:28<42:44,  6.54s/it]\u001b[A\n",
      "  1%|█                                                                                  | 5/396 [00:34<41:30,  6.37s/it]\u001b[A\n",
      "  2%|█▎                                                                                 | 6/396 [00:40<38:57,  5.99s/it]\u001b[A\n",
      "  2%|█▍                                                                                 | 7/396 [00:45<38:15,  5.90s/it]\u001b[A\n",
      "  2%|█▋                                                                                 | 8/396 [00:51<36:45,  5.68s/it]\u001b[A\n",
      "  2%|█▉                                                                                 | 9/396 [00:56<36:10,  5.61s/it]\u001b[A\n",
      "  3%|██                                                                                | 10/396 [01:02<36:29,  5.67s/it]\u001b[A\n",
      "  3%|██▎                                                                               | 11/396 [01:07<35:19,  5.51s/it]\u001b[A\n",
      "  3%|██▍                                                                               | 12/396 [01:12<34:57,  5.46s/it]\u001b[A\n",
      "  3%|██▋                                                                               | 13/396 [01:18<34:32,  5.41s/it]\u001b[A\n",
      "  4%|██▉                                                                               | 14/396 [01:24<35:13,  5.53s/it]\u001b[A\n",
      "  4%|███                                                                               | 15/396 [01:29<34:15,  5.39s/it]\u001b[A\n",
      "  4%|███▎                                                                              | 16/396 [01:34<34:52,  5.51s/it]\u001b[A\n",
      "  4%|███▌                                                                              | 17/396 [01:39<33:40,  5.33s/it]\u001b[A\n",
      "  5%|███▋                                                                              | 18/396 [01:45<34:37,  5.49s/it]\u001b[A\n",
      "  5%|███▉                                                                              | 19/396 [01:50<33:22,  5.31s/it]\u001b[A\n",
      "  5%|████▏                                                                             | 20/396 [01:55<33:28,  5.34s/it]\u001b[A\n",
      "  5%|████▎                                                                             | 21/396 [02:01<33:01,  5.28s/it]\u001b[A\n",
      "  6%|████▌                                                                             | 22/396 [02:06<32:55,  5.28s/it]\u001b[A\n",
      "  6%|████▊                                                                             | 23/396 [02:11<32:12,  5.18s/it]\u001b[A\n",
      "  6%|████▉                                                                             | 24/396 [02:16<31:43,  5.12s/it]\u001b[A\n",
      "  6%|█████▏                                                                            | 25/396 [02:21<31:55,  5.16s/it]\u001b[A\n",
      "  7%|█████▍                                                                            | 26/396 [02:26<31:45,  5.15s/it]\u001b[A\n",
      "  7%|█████▌                                                                            | 27/396 [02:31<31:14,  5.08s/it]\u001b[A\n",
      "  7%|█████▊                                                                            | 28/396 [02:36<30:54,  5.04s/it]\u001b[A\n",
      "  7%|██████                                                                            | 29/396 [02:41<30:33,  5.00s/it]\u001b[A\n",
      "  8%|██████▏                                                                           | 30/396 [02:46<31:17,  5.13s/it]\u001b[A\n",
      "  8%|██████▍                                                                           | 31/396 [02:51<30:49,  5.07s/it]\u001b[A\n",
      "  8%|██████▋                                                                           | 32/396 [02:56<30:17,  4.99s/it]\u001b[A\n",
      "  8%|██████▊                                                                           | 33/396 [03:01<29:53,  4.94s/it]\u001b[A\n",
      "  9%|███████                                                                           | 34/396 [03:06<30:01,  4.98s/it]\u001b[A\n",
      "  9%|███████▏                                                                          | 35/396 [03:11<29:55,  4.97s/it]\u001b[A\n",
      "  9%|███████▍                                                                          | 36/396 [03:16<29:43,  4.95s/it]\u001b[A\n",
      "  9%|███████▋                                                                          | 37/396 [03:20<28:46,  4.81s/it]\u001b[A\n",
      " 10%|███████▊                                                                          | 38/396 [03:25<29:19,  4.91s/it]\u001b[A\n",
      " 10%|████████                                                                          | 39/396 [03:30<28:44,  4.83s/it]\u001b[A\n",
      " 10%|████████▎                                                                         | 40/396 [03:36<30:40,  5.17s/it]\u001b[A\n",
      " 10%|████████▍                                                                         | 41/396 [03:41<30:15,  5.11s/it]\u001b[A\n",
      " 11%|████████▋                                                                         | 42/396 [03:46<30:03,  5.10s/it]\u001b[A\n",
      " 11%|████████▉                                                                         | 43/396 [03:51<29:23,  5.00s/it]\u001b[A\n",
      " 11%|█████████                                                                         | 44/396 [03:56<29:33,  5.04s/it]\u001b[A\n",
      " 11%|█████████▎                                                                        | 45/396 [04:01<29:27,  5.03s/it]\u001b[A\n",
      " 12%|█████████▌                                                                        | 46/396 [04:06<29:10,  5.00s/it]\u001b[A\n",
      " 12%|█████████▋                                                                        | 47/396 [04:11<28:49,  4.96s/it]\u001b[A\n",
      " 12%|█████████▉                                                                        | 48/396 [04:16<29:20,  5.06s/it]\u001b[A\n",
      " 12%|██████████▏                                                                       | 49/396 [04:21<28:49,  4.98s/it]\u001b[A\n",
      " 13%|██████████▎                                                                       | 50/396 [04:26<29:02,  5.04s/it]\u001b[A\n",
      " 13%|██████████▌                                                                       | 51/396 [04:31<28:29,  4.95s/it]\u001b[A\n",
      " 13%|██████████▊                                                                       | 52/396 [04:36<29:20,  5.12s/it]\u001b[A\n",
      " 13%|██████████▉                                                                       | 53/396 [04:41<29:15,  5.12s/it]\u001b[A\n",
      " 14%|███████████▏                                                                      | 54/396 [04:46<28:46,  5.05s/it]\u001b[A\n",
      " 14%|███████████▍                                                                      | 55/396 [04:52<29:05,  5.12s/it]\u001b[A\n",
      " 14%|███████████▌                                                                      | 56/396 [04:56<28:25,  5.02s/it]\u001b[A\n",
      " 14%|███████████▊                                                                      | 57/396 [05:01<28:13,  5.00s/it]\u001b[A\n",
      " 15%|████████████                                                                      | 58/396 [05:06<27:53,  4.95s/it]\u001b[A\n",
      " 15%|████████████▏                                                                     | 59/396 [05:11<27:36,  4.92s/it]\u001b[A\n",
      " 15%|████████████▍                                                                     | 60/396 [05:16<28:01,  5.01s/it]\u001b[A\n",
      " 15%|████████████▋                                                                     | 61/396 [05:21<27:53,  5.00s/it]\u001b[A\n",
      " 16%|████████████▊                                                                     | 62/396 [05:27<28:16,  5.08s/it]\u001b[A\n",
      " 16%|█████████████                                                                     | 63/396 [05:31<28:01,  5.05s/it]\u001b[A\n",
      " 16%|█████████████▎                                                                    | 64/396 [05:36<27:34,  4.98s/it]\u001b[A\n",
      " 16%|█████████████▍                                                                    | 65/396 [05:41<27:20,  4.96s/it]\u001b[A\n",
      " 17%|█████████████▋                                                                    | 66/396 [05:46<27:27,  4.99s/it]\u001b[A\n",
      " 17%|█████████████▊                                                                    | 67/396 [05:51<27:34,  5.03s/it]\u001b[A\n",
      " 17%|██████████████                                                                    | 68/396 [05:57<27:39,  5.06s/it]\u001b[A\n",
      " 17%|██████████████▎                                                                   | 69/396 [06:01<27:22,  5.02s/it]\u001b[A\n",
      " 18%|██████████████▍                                                                   | 70/396 [06:06<26:49,  4.94s/it]\u001b[A\n",
      " 18%|██████████████▋                                                                   | 71/396 [06:11<26:36,  4.91s/it]\u001b[A\n",
      " 18%|██████████████▉                                                                   | 72/396 [06:17<27:33,  5.10s/it]\u001b[A\n",
      " 18%|███████████████                                                                   | 73/396 [06:22<28:03,  5.21s/it]\u001b[A\n",
      " 19%|███████████████▎                                                                  | 74/396 [06:27<27:57,  5.21s/it]\u001b[A\n",
      " 19%|███████████████▌                                                                  | 75/396 [06:33<28:06,  5.25s/it]\u001b[A\n",
      " 19%|███████████████▋                                                                  | 76/396 [06:39<29:24,  5.51s/it]\u001b[A\n",
      " 19%|███████████████▉                                                                  | 77/396 [06:45<30:33,  5.75s/it]\u001b[A\n",
      " 20%|████████████████▏                                                                 | 78/396 [06:51<31:05,  5.87s/it]\u001b[A\n",
      " 20%|████████████████▎                                                                 | 79/396 [06:58<32:38,  6.18s/it]\u001b[A\n",
      " 20%|████████████████▌                                                                 | 80/396 [07:05<34:03,  6.47s/it]\u001b[A\n",
      " 20%|████████████████▊                                                                 | 81/396 [07:11<33:07,  6.31s/it]\u001b[A\n",
      " 21%|████████████████▉                                                                 | 82/396 [07:17<33:00,  6.31s/it]\u001b[A\n",
      " 21%|█████████████████▏                                                                | 83/396 [07:25<34:28,  6.61s/it]\u001b[A\n",
      " 21%|█████████████████▍                                                                | 84/396 [07:31<34:09,  6.57s/it]\u001b[A\n",
      " 21%|█████████████████▌                                                                | 85/396 [07:37<32:29,  6.27s/it]\u001b[A\n",
      " 22%|█████████████████▊                                                                | 86/396 [07:42<31:11,  6.04s/it]\u001b[A\n",
      " 22%|██████████████████                                                                | 87/396 [07:48<30:28,  5.92s/it]\u001b[A\n",
      " 22%|██████████████████▏                                                               | 88/396 [07:53<29:27,  5.74s/it]\u001b[A\n",
      " 22%|██████████████████▍                                                               | 89/396 [07:59<29:26,  5.75s/it]\u001b[A\n",
      " 23%|██████████████████▋                                                               | 90/396 [08:04<28:28,  5.58s/it]\u001b[A\n",
      " 23%|██████████████████▊                                                               | 91/396 [08:10<28:44,  5.66s/it]\u001b[A\n",
      " 23%|███████████████████                                                               | 92/396 [08:15<27:39,  5.46s/it]\u001b[A\n",
      " 23%|███████████████████▎                                                              | 93/396 [08:21<28:16,  5.60s/it]\u001b[A\n",
      " 24%|███████████████████▍                                                              | 94/396 [08:26<27:38,  5.49s/it]\u001b[A\n",
      " 24%|███████████████████▋                                                              | 95/396 [08:32<27:25,  5.47s/it]\u001b[A\n",
      " 24%|███████████████████▉                                                              | 96/396 [08:37<26:54,  5.38s/it]\u001b[A\n",
      " 24%|████████████████████                                                              | 97/396 [08:42<26:42,  5.36s/it]\u001b[A\n",
      " 25%|████████████████████▎                                                             | 98/396 [08:47<26:24,  5.32s/it]\u001b[A\n",
      " 25%|████████████████████▌                                                             | 99/396 [08:52<25:59,  5.25s/it]\u001b[A\n",
      " 25%|████████████████████▍                                                            | 100/396 [08:58<26:03,  5.28s/it]\u001b[A\n",
      " 26%|████████████████████▋                                                            | 101/396 [09:03<25:47,  5.25s/it]\u001b[A\n",
      " 26%|████████████████████▊                                                            | 102/396 [09:09<26:15,  5.36s/it]\u001b[A\n",
      " 26%|█████████████████████                                                            | 103/396 [09:14<25:46,  5.28s/it]\u001b[A\n",
      " 26%|█████████████████████▎                                                           | 104/396 [09:19<25:46,  5.30s/it]\u001b[A\n",
      " 27%|█████████████████████▍                                                           | 105/396 [09:24<25:11,  5.19s/it]\u001b[A\n",
      " 27%|█████████████████████▋                                                           | 106/396 [09:29<25:27,  5.27s/it]\u001b[A\n",
      " 27%|█████████████████████▉                                                           | 107/396 [09:34<24:53,  5.17s/it]\u001b[A\n",
      " 27%|██████████████████████                                                           | 108/396 [09:40<25:25,  5.30s/it]\u001b[A\n",
      " 28%|██████████████████████▎                                                          | 109/396 [09:45<24:47,  5.18s/it]\u001b[A\n",
      " 28%|██████████████████████▌                                                          | 110/396 [09:51<25:22,  5.32s/it]\u001b[A\n",
      " 28%|██████████████████████▋                                                          | 111/396 [09:56<24:47,  5.22s/it]\u001b[A\n",
      " 28%|██████████████████████▉                                                          | 112/396 [10:01<25:28,  5.38s/it]\u001b[A\n",
      " 29%|███████████████████████                                                          | 113/396 [10:07<25:35,  5.42s/it]\u001b[A\n",
      " 29%|███████████████████████▎                                                         | 114/396 [10:12<25:23,  5.40s/it]\u001b[A\n",
      " 29%|███████████████████████▌                                                         | 115/396 [10:18<25:21,  5.42s/it]\u001b[A\n",
      " 29%|███████████████████████▋                                                         | 116/396 [10:23<25:08,  5.39s/it]\u001b[A\n",
      " 30%|███████████████████████▉                                                         | 117/396 [10:29<26:17,  5.65s/it]\u001b[A\n",
      " 30%|████████████████████████▏                                                        | 118/396 [10:34<25:21,  5.47s/it]\u001b[A\n",
      " 30%|████████████████████████▎                                                        | 119/396 [10:40<25:13,  5.46s/it]\u001b[A\n",
      " 30%|████████████████████████▌                                                        | 120/396 [10:45<24:19,  5.29s/it]\u001b[A\n",
      " 31%|████████████████████████▊                                                        | 121/396 [10:50<25:07,  5.48s/it]\u001b[A\n",
      " 31%|████████████████████████▉                                                        | 122/396 [10:55<24:16,  5.32s/it]\u001b[A\n",
      " 31%|█████████████████████████▏                                                       | 123/396 [11:01<24:25,  5.37s/it]\u001b[A\n",
      " 31%|█████████████████████████▎                                                       | 124/396 [11:06<23:40,  5.22s/it]\u001b[A\n",
      " 32%|█████████████████████████▌                                                       | 125/396 [11:11<23:59,  5.31s/it]\u001b[A\n",
      " 32%|█████████████████████████▊                                                       | 126/396 [11:17<24:53,  5.53s/it]\u001b[A\n",
      " 32%|█████████████████████████▉                                                       | 127/396 [11:23<25:15,  5.63s/it]\u001b[A\n",
      " 32%|██████████████████████████▏                                                      | 128/396 [11:30<26:17,  5.89s/it]\u001b[A\n",
      " 33%|██████████████████████████▍                                                      | 129/396 [11:35<25:10,  5.66s/it]\u001b[A\n",
      " 33%|██████████████████████████▌                                                      | 130/396 [11:40<25:04,  5.66s/it]\u001b[A\n",
      " 33%|██████████████████████████▊                                                      | 131/396 [11:45<23:56,  5.42s/it]\u001b[A\n",
      " 33%|███████████████████████████                                                      | 132/396 [11:51<24:06,  5.48s/it]\u001b[A\n",
      " 34%|███████████████████████████▏                                                     | 133/396 [11:56<23:20,  5.33s/it]\u001b[A\n",
      " 34%|███████████████████████████▍                                                     | 134/396 [12:02<23:45,  5.44s/it]\u001b[A\n",
      " 34%|███████████████████████████▌                                                     | 135/396 [12:07<23:39,  5.44s/it]\u001b[A\n",
      " 34%|███████████████████████████▊                                                     | 136/396 [12:12<23:29,  5.42s/it]\u001b[A\n",
      " 35%|████████████████████████████                                                     | 137/396 [12:19<25:00,  5.80s/it]\u001b[A\n",
      " 35%|████████████████████████████▏                                                    | 138/396 [12:25<24:50,  5.78s/it]\u001b[A\n",
      " 35%|████████████████████████████▍                                                    | 139/396 [12:31<25:34,  5.97s/it]\u001b[A\n",
      " 35%|████████████████████████████▋                                                    | 140/396 [12:36<24:28,  5.74s/it]\u001b[A\n",
      " 36%|████████████████████████████▊                                                    | 141/396 [12:42<24:01,  5.65s/it]\u001b[A\n",
      " 36%|█████████████████████████████                                                    | 142/396 [12:47<23:22,  5.52s/it]\u001b[A\n",
      " 36%|█████████████████████████████▎                                                   | 143/396 [12:53<23:15,  5.52s/it]\u001b[A\n",
      " 36%|█████████████████████████████▍                                                   | 144/396 [12:58<22:51,  5.44s/it]\u001b[A\n",
      " 37%|█████████████████████████████▋                                                   | 145/396 [13:03<22:25,  5.36s/it]\u001b[A\n",
      " 37%|█████████████████████████████▊                                                   | 146/396 [13:08<22:21,  5.37s/it]\u001b[A\n",
      " 37%|██████████████████████████████                                                   | 147/396 [13:14<22:08,  5.33s/it]\u001b[A\n",
      " 37%|██████████████████████████████▎                                                  | 148/396 [13:19<22:21,  5.41s/it]\u001b[A\n",
      " 38%|██████████████████████████████▍                                                  | 149/396 [13:24<21:43,  5.28s/it]\u001b[A\n",
      " 38%|██████████████████████████████▋                                                  | 150/396 [13:30<21:46,  5.31s/it]\u001b[A\n",
      " 38%|██████████████████████████████▉                                                  | 151/396 [13:35<21:17,  5.22s/it]\u001b[A\n",
      " 38%|███████████████████████████████                                                  | 152/396 [13:40<21:28,  5.28s/it]\u001b[A\n",
      " 39%|███████████████████████████████▎                                                 | 153/396 [13:45<20:53,  5.16s/it]\u001b[A\n",
      " 39%|███████████████████████████████▌                                                 | 154/396 [13:51<21:24,  5.31s/it]\u001b[A\n",
      " 39%|███████████████████████████████▋                                                 | 155/396 [13:56<21:09,  5.27s/it]\u001b[A\n",
      " 39%|███████████████████████████████▉                                                 | 156/396 [14:02<22:31,  5.63s/it]\u001b[A\n",
      " 40%|████████████████████████████████                                                 | 157/396 [14:08<22:28,  5.64s/it]\u001b[A\n",
      " 40%|████████████████████████████████▎                                                | 158/396 [14:13<22:10,  5.59s/it]\u001b[A\n",
      " 40%|████████████████████████████████▌                                                | 159/396 [14:20<23:18,  5.90s/it]\u001b[A\n",
      " 40%|████████████████████████████████▋                                                | 160/396 [14:26<22:44,  5.78s/it]\u001b[A\n",
      " 41%|████████████████████████████████▉                                                | 161/396 [14:31<22:27,  5.73s/it]\u001b[A\n",
      " 41%|█████████████████████████████████▏                                               | 162/396 [14:38<23:24,  6.00s/it]\u001b[A\n",
      " 41%|█████████████████████████████████▎                                               | 163/396 [14:44<23:14,  5.98s/it]\u001b[A\n",
      " 41%|█████████████████████████████████▌                                               | 164/396 [14:49<22:36,  5.85s/it]\u001b[A\n",
      " 42%|█████████████████████████████████▊                                               | 165/396 [14:56<23:27,  6.09s/it]\u001b[A\n",
      " 42%|█████████████████████████████████▉                                               | 166/396 [15:02<23:25,  6.11s/it]\u001b[A\n",
      " 42%|██████████████████████████████████▏                                              | 167/396 [15:08<22:44,  5.96s/it]\u001b[A\n",
      " 42%|██████████████████████████████████▎                                              | 168/396 [15:13<21:24,  5.63s/it]\u001b[A\n",
      " 43%|██████████████████████████████████▌                                              | 169/396 [15:17<20:15,  5.35s/it]\u001b[A\n",
      " 43%|██████████████████████████████████▊                                              | 170/396 [15:22<19:36,  5.20s/it]\u001b[A\n",
      " 43%|██████████████████████████████████▉                                              | 171/396 [15:27<19:09,  5.11s/it]\u001b[A\n",
      " 43%|███████████████████████████████████▏                                             | 172/396 [15:32<19:23,  5.19s/it]\u001b[A\n",
      " 44%|███████████████████████████████████▍                                             | 173/396 [15:37<18:52,  5.08s/it]\u001b[A\n",
      " 44%|███████████████████████████████████▌                                             | 174/396 [15:42<18:55,  5.12s/it]\u001b[A\n",
      " 44%|███████████████████████████████████▊                                             | 175/396 [15:47<18:35,  5.05s/it]\u001b[A\n",
      " 44%|████████████████████████████████████                                             | 176/396 [15:52<18:23,  5.02s/it]\u001b[A\n",
      " 45%|████████████████████████████████████▏                                            | 177/396 [15:57<18:04,  4.95s/it]\u001b[A\n",
      " 45%|████████████████████████████████████▍                                            | 178/396 [16:03<18:35,  5.12s/it]\u001b[A\n",
      " 45%|████████████████████████████████████▌                                            | 179/396 [16:08<19:02,  5.27s/it]\u001b[A\n",
      " 45%|████████████████████████████████████▊                                            | 180/396 [16:14<19:23,  5.39s/it]\u001b[A\n",
      " 46%|█████████████████████████████████████                                            | 181/396 [16:19<19:03,  5.32s/it]\u001b[A\n",
      " 46%|█████████████████████████████████████▏                                           | 182/396 [16:24<18:57,  5.32s/it]\u001b[A\n",
      " 46%|█████████████████████████████████████▍                                           | 183/396 [16:29<17:58,  5.07s/it]\u001b[A\n",
      " 46%|█████████████████████████████████████▋                                           | 184/396 [16:34<17:50,  5.05s/it]\u001b[A\n",
      " 47%|█████████████████████████████████████▊                                           | 185/396 [16:38<17:13,  4.90s/it]\u001b[A\n",
      " 47%|██████████████████████████████████████                                           | 186/396 [16:43<17:08,  4.90s/it]\u001b[A\n",
      " 47%|██████████████████████████████████████▎                                          | 187/396 [16:48<16:49,  4.83s/it]\u001b[A\n",
      " 47%|██████████████████████████████████████▍                                          | 188/396 [16:53<17:15,  4.98s/it]\u001b[A\n",
      " 48%|██████████████████████████████████████▋                                          | 189/396 [16:58<17:19,  5.02s/it]\u001b[A\n",
      " 48%|██████████████████████████████████████▊                                          | 190/396 [17:04<17:48,  5.19s/it]\u001b[A\n",
      " 48%|███████████████████████████████████████                                          | 191/396 [17:08<16:59,  4.97s/it]\u001b[A\n",
      " 48%|███████████████████████████████████████▎                                         | 192/396 [17:13<16:46,  4.93s/it]\u001b[A\n",
      " 49%|███████████████████████████████████████▍                                         | 193/396 [17:18<16:21,  4.83s/it]\u001b[A\n",
      " 49%|███████████████████████████████████████▋                                         | 194/396 [17:23<16:35,  4.93s/it]\u001b[A\n",
      " 49%|███████████████████████████████████████▉                                         | 195/396 [17:28<16:12,  4.84s/it]\u001b[A\n",
      " 49%|████████████████████████████████████████                                         | 196/396 [17:33<16:18,  4.89s/it]\u001b[A\n",
      " 50%|████████████████████████████████████████▎                                        | 197/396 [17:38<16:12,  4.89s/it]\u001b[A\n",
      " 50%|████████████████████████████████████████▌                                        | 198/396 [17:43<16:55,  5.13s/it]\u001b[A\n",
      " 50%|████████████████████████████████████████▋                                        | 199/396 [17:48<16:34,  5.05s/it]\u001b[A\n",
      " 51%|████████████████████████████████████████▉                                        | 200/396 [17:54<17:03,  5.22s/it]\u001b[A\n",
      " 51%|█████████████████████████████████████████                                        | 201/396 [17:59<16:44,  5.15s/it]\u001b[A\n",
      " 51%|█████████████████████████████████████████▎                                       | 202/396 [18:04<17:00,  5.26s/it]\u001b[A\n",
      " 51%|█████████████████████████████████████████▌                                       | 203/396 [18:09<16:07,  5.01s/it]\u001b[A\n",
      " 52%|█████████████████████████████████████████▋                                       | 204/396 [18:13<15:49,  4.95s/it]\u001b[A\n",
      " 52%|█████████████████████████████████████████▉                                       | 205/396 [18:18<15:22,  4.83s/it]\u001b[A\n",
      " 52%|██████████████████████████████████████████▏                                      | 206/396 [18:23<15:14,  4.81s/it]\u001b[A\n",
      " 52%|██████████████████████████████████████████▎                                      | 207/396 [18:27<14:55,  4.74s/it]\u001b[A\n",
      " 53%|██████████████████████████████████████████▌                                      | 208/396 [18:32<14:51,  4.74s/it]\u001b[A\n",
      " 53%|██████████████████████████████████████████▊                                      | 209/396 [18:37<14:40,  4.71s/it]\u001b[A\n",
      " 53%|██████████████████████████████████████████▉                                      | 210/396 [18:41<14:36,  4.71s/it]\u001b[A\n",
      " 53%|███████████████████████████████████████████▏                                     | 211/396 [18:47<14:54,  4.84s/it]\u001b[A\n",
      " 54%|███████████████████████████████████████████▎                                     | 212/396 [18:51<14:49,  4.84s/it]\u001b[A\n",
      " 54%|███████████████████████████████████████████▌                                     | 213/396 [18:56<14:58,  4.91s/it]\u001b[A\n",
      " 54%|███████████████████████████████████████████▊                                     | 214/396 [19:01<14:26,  4.76s/it]\u001b[A\n",
      " 54%|███████████████████████████████████████████▉                                     | 215/396 [19:06<14:51,  4.93s/it]\u001b[A\n",
      " 55%|████████████████████████████████████████████▏                                    | 216/396 [19:11<14:44,  4.91s/it]\u001b[A\n",
      " 55%|████████████████████████████████████████████▍                                    | 217/396 [19:16<14:58,  5.02s/it]\u001b[A\n",
      " 55%|████████████████████████████████████████████▌                                    | 218/396 [19:21<14:30,  4.89s/it]\u001b[A\n",
      " 55%|████████████████████████████████████████████▊                                    | 219/396 [19:26<14:56,  5.06s/it]\u001b[A\n",
      " 56%|█████████████████████████████████████████████                                    | 220/396 [19:31<14:20,  4.89s/it]\u001b[A\n",
      " 56%|█████████████████████████████████████████████▏                                   | 221/396 [19:36<14:26,  4.95s/it]\u001b[A\n",
      " 56%|█████████████████████████████████████████████▍                                   | 222/396 [19:41<14:07,  4.87s/it]\u001b[A\n",
      " 56%|█████████████████████████████████████████████▌                                   | 223/396 [19:46<14:21,  4.98s/it]\u001b[A\n",
      " 57%|█████████████████████████████████████████████▊                                   | 224/396 [19:50<13:53,  4.85s/it]\u001b[A\n",
      " 57%|██████████████████████████████████████████████                                   | 225/396 [19:55<14:00,  4.91s/it]\u001b[A\n",
      " 57%|██████████████████████████████████████████████▏                                  | 226/396 [20:00<13:36,  4.81s/it]\u001b[A\n",
      " 57%|██████████████████████████████████████████████▍                                  | 227/396 [20:05<14:04,  5.00s/it]\u001b[A\n",
      " 58%|██████████████████████████████████████████████▋                                  | 228/396 [20:10<13:36,  4.86s/it]\u001b[A\n",
      " 58%|██████████████████████████████████████████████▊                                  | 229/396 [20:15<13:44,  4.93s/it]\u001b[A\n",
      " 58%|███████████████████████████████████████████████                                  | 230/396 [20:20<13:27,  4.87s/it]\u001b[A\n",
      " 58%|███████████████████████████████████████████████▎                                 | 231/396 [20:25<13:43,  4.99s/it]\u001b[A\n",
      " 59%|███████████████████████████████████████████████▍                                 | 232/396 [20:30<13:13,  4.84s/it]\u001b[A\n",
      " 59%|███████████████████████████████████████████████▋                                 | 233/396 [20:35<13:29,  4.97s/it]\u001b[A\n",
      " 59%|███████████████████████████████████████████████▊                                 | 234/396 [20:40<13:34,  5.03s/it]\u001b[A\n",
      " 59%|████████████████████████████████████████████████                                 | 235/396 [20:45<13:37,  5.08s/it]\u001b[A\n",
      " 60%|████████████████████████████████████████████████▎                                | 236/396 [20:50<13:14,  4.96s/it]\u001b[A\n",
      " 60%|████████████████████████████████████████████████▍                                | 237/396 [20:55<13:26,  5.07s/it]\u001b[A\n",
      " 60%|████████████████████████████████████████████████▋                                | 238/396 [21:00<12:59,  4.94s/it]\u001b[A\n",
      " 60%|████████████████████████████████████████████████▉                                | 239/396 [21:06<13:34,  5.19s/it]\u001b[A\n",
      " 61%|█████████████████████████████████████████████████                                | 240/396 [21:10<12:52,  4.95s/it]\u001b[A\n",
      " 61%|█████████████████████████████████████████████████▎                               | 241/396 [21:15<12:48,  4.96s/it]\u001b[A\n",
      " 61%|█████████████████████████████████████████████████▌                               | 242/396 [21:19<12:16,  4.78s/it]\u001b[A\n",
      " 61%|█████████████████████████████████████████████████▋                               | 243/396 [21:24<12:18,  4.82s/it]\u001b[A\n",
      " 62%|█████████████████████████████████████████████████▉                               | 244/396 [21:29<12:01,  4.75s/it]\u001b[A\n",
      " 62%|██████████████████████████████████████████████████                               | 245/396 [21:34<12:00,  4.77s/it]\u001b[A\n",
      " 62%|██████████████████████████████████████████████████▎                              | 246/396 [21:38<11:47,  4.72s/it]\u001b[A\n",
      " 62%|██████████████████████████████████████████████████▌                              | 247/396 [21:43<11:48,  4.76s/it]\u001b[A\n",
      " 63%|██████████████████████████████████████████████████▋                              | 248/396 [21:48<11:37,  4.71s/it]\u001b[A\n",
      " 63%|██████████████████████████████████████████████████▉                              | 249/396 [21:53<11:52,  4.85s/it]\u001b[A\n",
      " 63%|███████████████████████████████████████████████████▏                             | 250/396 [21:58<11:43,  4.82s/it]\u001b[A\n",
      " 63%|███████████████████████████████████████████████████▎                             | 251/396 [22:03<12:00,  4.97s/it]\u001b[A\n",
      " 64%|███████████████████████████████████████████████████▌                             | 252/396 [22:08<11:39,  4.86s/it]\u001b[A\n",
      " 64%|███████████████████████████████████████████████████▋                             | 253/396 [22:12<11:29,  4.82s/it]\u001b[A\n",
      " 64%|███████████████████████████████████████████████████▉                             | 254/396 [22:17<11:16,  4.76s/it]\u001b[A\n",
      " 64%|████████████████████████████████████████████████████▏                            | 255/396 [22:21<10:55,  4.65s/it]\u001b[A\n",
      " 65%|████████████████████████████████████████████████████▎                            | 256/396 [22:26<11:02,  4.73s/it]\u001b[A\n",
      " 65%|████████████████████████████████████████████████████▌                            | 257/396 [22:31<10:44,  4.64s/it]\u001b[A\n",
      " 65%|████████████████████████████████████████████████████▊                            | 258/396 [22:36<10:56,  4.75s/it]\u001b[A\n",
      " 65%|████████████████████████████████████████████████████▉                            | 259/396 [22:40<10:36,  4.64s/it]\u001b[A\n",
      " 66%|█████████████████████████████████████████████████████▏                           | 260/396 [22:45<10:43,  4.73s/it]\u001b[A\n",
      " 66%|█████████████████████████████████████████████████████▍                           | 261/396 [22:49<10:24,  4.62s/it]\u001b[A\n",
      " 66%|█████████████████████████████████████████████████████▌                           | 262/396 [22:54<10:30,  4.71s/it]\u001b[A\n",
      " 66%|█████████████████████████████████████████████████████▊                           | 263/396 [22:59<10:15,  4.62s/it]\u001b[A\n",
      " 67%|██████████████████████████████████████████████████████                           | 264/396 [23:04<10:21,  4.71s/it]\u001b[A\n",
      " 67%|██████████████████████████████████████████████████████▏                          | 265/396 [23:08<10:11,  4.67s/it]\u001b[A\n",
      " 67%|██████████████████████████████████████████████████████▍                          | 266/396 [23:13<10:14,  4.72s/it]\u001b[A\n",
      " 67%|██████████████████████████████████████████████████████▌                          | 267/396 [23:18<10:05,  4.69s/it]\u001b[A\n",
      " 68%|██████████████████████████████████████████████████████▊                          | 268/396 [23:22<10:00,  4.69s/it]\u001b[A\n",
      " 68%|███████████████████████████████████████████████████████                          | 269/396 [23:27<09:53,  4.68s/it]\u001b[A\n",
      " 68%|███████████████████████████████████████████████████████▏                         | 270/396 [23:31<09:40,  4.61s/it]\u001b[A\n",
      " 68%|███████████████████████████████████████████████████████▍                         | 271/396 [23:36<09:47,  4.70s/it]\u001b[A\n",
      " 69%|███████████████████████████████████████████████████████▋                         | 272/396 [23:41<09:31,  4.61s/it]\u001b[A\n",
      " 69%|███████████████████████████████████████████████████████▊                         | 273/396 [23:46<09:39,  4.71s/it]\u001b[A\n",
      " 69%|████████████████████████████████████████████████████████                         | 274/396 [23:50<09:28,  4.66s/it]\u001b[A\n",
      " 69%|████████████████████████████████████████████████████████▎                        | 275/396 [23:55<09:35,  4.76s/it]\u001b[A\n",
      " 70%|████████████████████████████████████████████████████████▍                        | 276/396 [24:00<09:17,  4.64s/it]\u001b[A\n",
      " 70%|████████████████████████████████████████████████████████▋                        | 277/396 [24:05<09:38,  4.86s/it]\u001b[A\n",
      " 70%|████████████████████████████████████████████████████████▊                        | 278/396 [24:09<09:20,  4.75s/it]\u001b[A\n",
      " 70%|█████████████████████████████████████████████████████████                        | 279/396 [24:14<09:21,  4.80s/it]\u001b[A"
     ]
    }
   ],
   "source": [
    "n_timesteps = int((ref_model.end_time - ref_model.start_time) /  ref_model.time_step)\n",
    "\n",
    "time = []\n",
    "lst_state_vector = []\n",
    "lst_Q = [] \n",
    "for _ in tqdm(range(n_timesteps)):   \n",
    "    time.append(pd.Timestamp(ref_model.time_as_datetime.date()))\n",
    "    ensemble.update(assimilate=True)\n",
    "    lst_state_vector.append(ensemble.get_state_vector())\n",
    "    lst_Q.append(ensemble.get_value(\"Q\"))\n",
    "    \n",
    "    \n",
    "ensemble.finalize()# end model - IMPORTANT! when working with docker"
   ]
  },
  {
   "cell_type": "markdown",
   "id": "3ff9f321-0273-493b-8930-a260fad4da2b",
   "metadata": {},
   "source": [
    "### WIP:"
   ]
  },
  {
   "cell_type": "code",
   "execution_count": null,
   "id": "2cfdccf8-3e15-43de-8c86-886bb9481c67",
   "metadata": {},
   "outputs": [],
   "source": [
    "Q_m_arr = np.array(lst_Q).T\n",
    "state_vector_arr = np.array(lst_state_vector)"
   ]
  },
  {
   "cell_type": "markdown",
   "id": "2c89db66-ac01-4c78-8339-157dd01bd2ed",
   "metadata": {},
   "source": [
    "### process the numpy data into easily acessed data types"
   ]
  },
  {
   "cell_type": "code",
   "execution_count": null,
   "id": "2c98cf5e-5ffe-4642-a06a-2259df76b75a",
   "metadata": {},
   "outputs": [],
   "source": [
    "save = False\n",
    "current_time = str(datetime.now())[:-10].replace(\":\",\"_\")"
   ]
  },
  {
   "cell_type": "code",
   "execution_count": null,
   "id": "b0f726cd-eff8-4627-a18b-ac9dd1d908c4",
   "metadata": {},
   "outputs": [],
   "source": [
    "df_ensemble = pd.DataFrame(data=Q_m_arr[:,:len(time)].T,index=time,columns=[f'particle {n}' for n in range(n_particles)])"
   ]
  },
  {
   "cell_type": "markdown",
   "id": "d128236e-060f-475f-816a-2b336fa7b22e",
   "metadata": {},
   "source": [
    "### process states and parameters into xarrys"
   ]
  },
  {
   "cell_type": "code",
   "execution_count": null,
   "id": "ea403f3f-c839-4876-90ab-7326e195d801",
   "metadata": {},
   "outputs": [],
   "source": [
    "##### Save? \n",
    "if save:\n",
    "    df_ensemble.to_feather(output_path /f'df_ensemble_{current_time}.feather')"
   ]
  },
  {
   "cell_type": "code",
   "execution_count": null,
   "id": "f71301cc-8af1-40fa-98d6-8022e1410fe0",
   "metadata": {},
   "outputs": [],
   "source": [
    "# if load:\n",
    "# TODO: obtain from model \n",
    "units= {\"Imax\":\"mm\",\n",
    "        \"Ce\": \"-\",\n",
    "        \"Sumax\": \"mm\",\n",
    "        \"Beta\": \"-\",\n",
    "        \"Pmax\": \"mm\",\n",
    "        \"Tlag\": \"d\",\n",
    "        \"Kf\": \"-\",\n",
    "        \"Ks\": \"-\",\n",
    "        \"Si\": \"mm\",\n",
    "        \"Su\": \"mm\",\n",
    "        \"Sf\": \"mm\",\n",
    "        \"Ss\": \"mm\",\n",
    "        \"Ei_dt\": \"mm/d\",\n",
    "        \"Ea_dt\": \"mm/d\",\n",
    "        \"Qs_dt\": \"mm/d\",\n",
    "        \"Qf_dt\": \"mm/d\",\n",
    "        \"Q_tot_dt\": \"mm/d\",\n",
    "        \"Q\": \"mm/d\"}"
   ]
  },
  {
   "cell_type": "code",
   "execution_count": null,
   "id": "f6a03919-d535-4d58-a321-f80d95985aa7",
   "metadata": {
    "scrolled": true
   },
   "outputs": [],
   "source": [
    "data_vars = {}\n",
    "for i, name in enumerate(param_names + stor_names):\n",
    "    storage_terms_i = xr.DataArray(state_vector_arr[:,:,i].T,\n",
    "                                   name=name,\n",
    "                                   dims=[\"EnsembleMember\",\"time\"],\n",
    "                                  coords=[np.arange(n_particles),df_ensemble.index],\n",
    "                                  attrs={\"title\": f\"HBV storage terms data over time for {n_particles} particles \", \n",
    "                                           \"history\": f\"Storage term results from ewatercycle_HBV.model\",\n",
    "                                        \"description\":\"Moddeled values\",\n",
    "                                             \"units\": \"mm\"})\n",
    "    data_vars[name] = storage_terms_i\n",
    "\n",
    "ds_combined = xr.Dataset(data_vars,\n",
    "                         attrs={\"title\": f\"HBV storage terms data over time for {n_particles} particles \", \n",
    "                                \"history\": f\"Storage term results from ewatercycle_HBV.model\",}\n",
    "                          )\n",
    "if save:\n",
    "    ds_combined.to_netcdf(output_path / f'combined_ds_{current_time}.nc')"
   ]
  },
  {
   "cell_type": "markdown",
   "id": "c30e5bc1-1e29-4c75-a570-043c53c78391",
   "metadata": {},
   "source": [
    "## Plotting"
   ]
  },
  {
   "cell_type": "code",
   "execution_count": null,
   "id": "d9b9ad9e-4d1b-4621-a89d-60c044163095",
   "metadata": {},
   "outputs": [],
   "source": [
    "# df_ensemble.plot()\n",
    "fig, ax = plt.subplots(1,1,figsize=(12,5))\n",
    "# ax.plot(ds.time.values[:n_days],ds['Q'].values[:n_days],lw=0,marker=\"*\",ms=2.5,zorder=0,label=\"Observations\",color=\"k\")\n",
    "# ax.plot(df.index, Q_m_in_ref[1:],label=\"Modelled reference Q\");\n",
    "ds_obs['Q'].sel(time=time).plot(ax=ax,lw=0,marker=\"*\",ms=2.5,zorder=0,label=\"Observations\",color='k')\n",
    "ax.legend(bbox_to_anchor=(1,1))\n",
    "df_ensemble.plot(ax=ax,alpha=0.5,zorder=-1,legend=False)\n",
    "ax.set_ylabel(\"Q [mm]\")\n",
    "ax.set_title(f\"Run ensemble of {n_particles} particles\");\n",
    "if save:\n",
    "    fig.savefig(figure_path / f\"ensemble_run_for_{n_particles}_particles_{current_time}.png\")"
   ]
  },
  {
   "cell_type": "markdown",
   "id": "690c111c-79a3-4dee-993a-6da30312eb17",
   "metadata": {},
   "source": [
    "WIP: deal with ensemble collapase later"
   ]
  },
  {
   "cell_type": "markdown",
   "id": "d4bd5cba-8f36-44bd-b74e-c930ffb7a061",
   "metadata": {},
   "source": [
    "Can calculate the mea as a reference"
   ]
  },
  {
   "cell_type": "code",
   "execution_count": null,
   "id": "318dd3bc-2268-4f9a-9aef-5f69173f0276",
   "metadata": {},
   "outputs": [],
   "source": [
    "def calc_NSE(Qo, Qm):\n",
    "    QoAv  = np.mean(Qo)\n",
    "    ErrUp = np.sum((Qm - Qo)**2)\n",
    "    ErrDo = np.sum((Qo - QoAv)**2)\n",
    "    return 1 - (ErrUp / ErrDo)"
   ]
  },
  {
   "cell_type": "code",
   "execution_count": null,
   "id": "777b755b-d048-442c-b182-b4c0827fb5a4",
   "metadata": {},
   "outputs": [],
   "source": [
    "mean_ensemble = df_ensemble.T.mean()\n",
    "NSE_mean_ens = calc_NSE(ds_obs['Q'].sel(time=time).values,mean_ensemble.loc[time])"
   ]
  },
  {
   "cell_type": "code",
   "execution_count": null,
   "id": "987ebf9e-482d-430f-a9dd-e5738cff9dfb",
   "metadata": {},
   "outputs": [],
   "source": [
    "# df_ensemble.plot()\n",
    "fig, ax = plt.subplots(1,1,figsize=(12,5))\n",
    "# ax.plot(ds.time.values[:n_days],ds['Q'].values[:n_days],lw=0,marker=\"*\",ms=2.5,zorder=0,label=\"Observations\",color=\"k\")\n",
    "# ax.plot(df.index, Q_m_in_ref[1:],label=\"Modelled reference Q\");\n",
    "ds_obs['Q'].sel(time=time).plot(ax=ax,lw=0,marker=\"*\",ms=2.0,zorder=0,label=\"Observations\",color='k')\n",
    "\n",
    "ax.plot(mean_ensemble,color=\"C1\",lw=0.5,label=f\"mean {NSE_mean_ens:.2f}\",zorder=-1)\n",
    "ax.fill_between(df_ensemble.index,df_ensemble.T.min(),df_ensemble.T.max(),color=\"C0\", alpha=0.35,zorder=-10,label=\"bounds\")\n",
    "ax.legend(bbox_to_anchor=(1.25,1))\n",
    "ax.set_ylabel(\"Q [mm]\")\n",
    "ax.set_title(f\"Run ensemble of {n_particles} particles\");\n",
    "# ax.set_xlim((pd.Timestamp('1997-08-01'),pd.Timestamp('1998-06-01')))\n",
    "if save:\n",
    "    fig.savefig(figure_path / f\"ensemble_run_for_{n_particles}_particles_{current_time}.png\",bbox_inches=\"tight\",dpi=400);"
   ]
  },
  {
   "cell_type": "code",
   "execution_count": null,
   "id": "6906f6f4-93ef-467a-9908-22e4ef859fb1",
   "metadata": {},
   "outputs": [],
   "source": [
    "# df_ensemble.plot()\n",
    "fig, ax = plt.subplots(1,1,figsize=(12,5))\n",
    "# ax.plot(ds.time.values[:n_days],ds['Q'].values[:n_days],lw=0,marker=\"*\",ms=2.5,zorder=0,label=\"Observations\",color=\"k\")\n",
    "# ax.plot(df.index, Q_m_in_ref[1:],label=\"Modelled reference Q\");\n",
    "ds_obs['Q'].sel(time=time).plot(ax=ax,lw=0,marker=\"*\",ms=2.0,zorder=0,label=\"Observations\",color='k')\n",
    "\n",
    "ax_pr = ax.twinx()\n",
    "ax_pr.invert_yaxis()\n",
    "ax_pr.set_ylabel(f\"P [mm]\")\n",
    "ax_pr.bar(df_ensemble.index,ds['pr'].values[:len(time)],zorder=-15,label=\"Precipitation\",color=\"grey\")\n",
    "ax_pr.legend(bbox_to_anchor=(1.25,0.8))\n",
    "\n",
    "ax.plot(mean_ensemble,color=\"C1\",lw=0.5,label=f\"mean\",zorder=-1)\n",
    "ax.fill_between(df_ensemble.index,df_ensemble.T.min(),df_ensemble.T.max(),color=\"C0\", alpha=0.35,zorder=-10,label=\"bounds\")\n",
    "ax.legend(bbox_to_anchor=(1.25,1))\n",
    "ax.set_ylabel(\"Q [mm]\")\n",
    "ax.set_title(f\"Run ensemble of {n_particles} particles\");\n",
    "if save:\n",
    "    fig.savefig(figure_path / f\"ensemble_run_for_{n_particles}_particles_bounds_P_{current_time}.png\",bbox_inches=\"tight\",dpi=400);"
   ]
  },
  {
   "cell_type": "code",
   "execution_count": null,
   "id": "b54f9ccf-79c6-4bff-a98a-818bcfceabc2",
   "metadata": {},
   "outputs": [],
   "source": [
    "n=5\n",
    "fig, axs = plt.subplots(n,1,figsize=(12,n*2),sharex=True)\n",
    "\n",
    "ax = axs[0]\n",
    "ds_obs['Q'].sel(time=time).plot(ax=ax,lw=0,marker=\"*\",ms=2.5,zorder=0,label=\"Observations\",color='k')\n",
    "ax_pr = ax.twinx()\n",
    "ax_pr.invert_yaxis()\n",
    "ax_pr.set_ylabel(f\"P [mm]\")\n",
    "ax_pr.bar(df_ensemble.index,ds['pr'].values[:len(time)],zorder=-10,label=\"Precipitation\",color=\"grey\")\n",
    "\n",
    "ax.plot(mean_ensemble,color=\"C1\",lw=0.5,label=f\"mean\",zorder=-1)\n",
    "ax.fill_between(df_ensemble.index,df_ensemble.T.min(),df_ensemble.T.max(),color=\"C0\", alpha=0.5,zorder=-10,label=\"bounds\")\n",
    "ax.legend(bbox_to_anchor=(1.25,1))\n",
    "ax.set_ylabel(\"Q [mm]\")\n",
    "\n",
    "ax.set_title(f\"Run ensemble of {n_particles} particles\");\n",
    "\n",
    "for i, S_name in enumerate(S_names):\n",
    "    for j in range(n_particles):\n",
    "        ds_combined[stor_names[i]].isel(EnsembleMember=j).plot(ax=axs[i+1],color=f\"C{i}\",alpha=0.5)\n",
    "        axs[i+1].set_title(S_name)\n",
    "\n",
    "# remove all unncecearry xlabels\n",
    "[ax.set_xlabel(None) for ax in axs[:-1]]\n",
    "[ax.set_ylabel(\"S [mm]\") for ax in axs[1:]]\n",
    "if save:\n",
    "    fig.savefig(figure_path / f\"ensemble_run_for__{n_particles}_particles_storages_{current_time}.png\",bbox_inches=\"tight\",dpi=400)"
   ]
  },
  {
   "cell_type": "code",
   "execution_count": null,
   "id": "313203d9-3fbd-4480-88c7-cabb6e73a57c",
   "metadata": {},
   "outputs": [],
   "source": [
    "fig, axs = plt.subplots(2,4,figsize=(25,10),sharex=True)\n",
    "axs = axs.flatten()\n",
    "for j, parameter in enumerate(param_names):\n",
    "    ax = axs[j]\n",
    "    for i in range(n_particles):\n",
    "        ds_combined[parameter].isel(EnsembleMember=i).plot(ax=ax,alpha=0.3)\n",
    "    ax.set_title(f'parameter={parameter}')# for {n_particles} Ensemble Members')\n",
    "    ax.set_ylabel(f'[{units[parameter]}]')\n",
    "if save:\n",
    "    fig.savefig(figure_path /  f\"ensemble_run_for__{n_particles}_particles_parameters_{current_time}.png\",bbox_inches=\"tight\",dpi=400)"
   ]
  }
 ],
 "metadata": {
  "kernelspec": {
   "display_name": "Python 3 (ipykernel)",
   "language": "python",
   "name": "python3"
  },
  "language_info": {
   "codemirror_mode": {
    "name": "ipython",
    "version": 3
   },
   "file_extension": ".py",
   "mimetype": "text/x-python",
   "name": "python",
   "nbconvert_exporter": "python",
   "pygments_lexer": "ipython3",
   "version": "3.10.13"
  }
 },
 "nbformat": 4,
 "nbformat_minor": 5
}
